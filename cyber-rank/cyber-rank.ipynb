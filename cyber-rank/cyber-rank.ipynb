{
 "cells": [
  {
   "cell_type": "markdown",
   "metadata": {},
   "source": [
    "## cyber~rank"
   ]
  },
  {
   "cell_type": "code",
   "execution_count": 1,
   "metadata": {},
   "outputs": [],
   "source": [
    "import math\n",
    "import collections\n",
    "import functools\n",
    "import operator"
   ]
  },
  {
   "cell_type": "markdown",
   "metadata": {},
   "source": [
    "Lets say 4 agents in the network with resource token balances (2.000, 7.000, 9.000, 5.000) accor"
   ]
  },
  {
   "cell_type": "code",
   "execution_count": 2,
   "metadata": {},
   "outputs": [],
   "source": [
    "agents = {\n",
    "    'agent_1': 2.000,\n",
    "    'agent_2': 7.000,\n",
    "    'agent_3': 9.000,\n",
    "    'agent_4': 5.000,\n",
    "}"
   ]
  },
  {
   "cell_type": "markdown",
   "metadata": {},
   "source": [
    "Named agents create cyberlinks:"
   ]
  },
  {
   "cell_type": "code",
   "execution_count": 3,
   "metadata": {},
   "outputs": [],
   "source": [
    "agents_cyberlinks = {\n",
    "    'agent_1': [(1, 2), (3, 4)],\n",
    "    'agent_2': [(2, 3)],\n",
    "    'agent_3': [(1, 3), (2, 4), (3, 4)],\n",
    "    'agent_4': [(4, 2), (2, 1)],\n",
    "}"
   ]
  },
  {
   "cell_type": "markdown",
   "metadata": {},
   "source": [
    "Let's define a function to prepare the context for cyber~rank and entropy calculations:"
   ]
  },
  {
   "cell_type": "code",
   "execution_count": 4,
   "metadata": {},
   "outputs": [],
   "source": [
    "def context_preparator(agents: dict, agents_cyberlinks: dict) -> list:\n",
    "    cyberlinks_wihth_agent_weight = []\n",
    "    for agent, cyberlinks in agents_cyberlinks.items():\n",
    "        temp = (cyberlinks, agents[agent])\n",
    "        cyberlinks_wihth_agent_weight.append(temp)\n",
    "    grouped_cyberlinks = collections.Counter()\n",
    "    for agent_cyberlinks in cyberlinks_wihth_agent_weight:\n",
    "        cyberlinks = agent_cyberlinks[0]\n",
    "        agent_weight = agent_cyberlinks[1]\n",
    "        agent_cyberlink_weight = agent_weight / len(cyberlinks)\n",
    "        agent_weighted_cyberlinks = {cyberlink: agent_cyberlink_weight for cyberlink in cyberlinks}\n",
    "        grouped_cyberlinks += collections.Counter(agent_weighted_cyberlinks)\n",
    "    cyberlinks = [{k:v} for k,v in grouped_cyberlinks.items()]\n",
    "    return cyberlinks"
   ]
  },
  {
   "cell_type": "markdown",
   "metadata": {},
   "source": [
    "And now let prepare context for the rank and entropy calculations"
   ]
  },
  {
   "cell_type": "code",
   "execution_count": 6,
   "metadata": {},
   "outputs": [
    {
     "data": {
      "text/plain": [
       "[{(1, 2): 1.0},\n",
       " {(3, 4): 4.0},\n",
       " {(2, 3): 7.0},\n",
       " {(1, 3): 3.0},\n",
       " {(2, 4): 3.0},\n",
       " {(4, 2): 2.5},\n",
       " {(2, 1): 2.5}]"
      ]
     },
     "execution_count": 6,
     "metadata": {},
     "output_type": "execute_result"
    }
   ],
   "source": [
    "cyberlinks = context_preparator(agents, agents_cyberlinks)\n",
    "cyberlinks"
   ]
  },
  {
   "cell_type": "markdown",
   "metadata": {},
   "source": [
    "Define cyber rank function:"
   ]
  },
  {
   "cell_type": "code",
   "execution_count": 7,
   "metadata": {},
   "outputs": [],
   "source": [
    "def rank_calc(cyberlinks: list, tolerance: float = 0.001, damping_factor: float = 0.8):\n",
    "    cyberlinks_dict = dict(functools.reduce(operator.add, map(collections.Counter, cyberlinks)))\n",
    "    objects = list(set([item for t in [list(x.keys())[0] for x in cyberlinks] for item in t]))\n",
    "    rank = [0] * len(objects)\n",
    "    size = len(objects)\n",
    "    default_rank = (1.0 - damping_factor) / size\n",
    "    dangling_nodes = [obj for obj in objects if obj not in [list(cyberlink.keys())[0][1] for cyberlink in cyberlinks]]\n",
    "    dangling_nodes_size = len(dangling_nodes)\n",
    "    inner_product_over_size = default_rank * (dangling_nodes_size / size)\n",
    "    default_rank_with_correction = (damping_factor * inner_product_over_size) + default_rank\n",
    "    change = tolerance + 1\n",
    "\n",
    "    steps = 0\n",
    "    prevrank = [0] * len(objects)\n",
    "    while change > tolerance:\n",
    "        for obj in objects:\n",
    "            obj_index = objects.index(obj)\n",
    "            ksum = 0\n",
    "            income_cyberlinks = [income_cyberlink for income_cyberlink in [list(x.keys())[0] for x in cyberlinks] if income_cyberlink[1] == obj]\n",
    "            for cyberlink in income_cyberlinks:\n",
    "                linkStake = cyberlinks_dict[cyberlink]\n",
    "                outcome_cyberlinks = [outcome_cyberlink for outcome_cyberlink in [list(x.keys())[0] for x in cyberlinks] if outcome_cyberlink[0] == cyberlink[0]]\n",
    "                jCidOutStake = sum([cyberlinks_dict[outcome_cyberlink] for outcome_cyberlink in outcome_cyberlinks])\n",
    "                if linkStake == 0 or jCidOutStake == 0:\n",
    "                    continue\n",
    "                weight = linkStake / jCidOutStake\n",
    "                ksum = prevrank[obj_index] * weight + ksum\n",
    "            rank[obj_index] = ksum * damping_factor + default_rank_with_correction\n",
    "        change = abs(max(rank) - max(prevrank))\n",
    "        prevrank = rank\n",
    "        steps += 1\n",
    "    res = list(zip(objects, rank))\n",
    "    res.sort(reverse=True, key=lambda x: x[1])\n",
    "    return res"
   ]
  },
  {
   "cell_type": "code",
   "execution_count": 8,
   "metadata": {},
   "outputs": [
    {
     "data": {
      "text/plain": [
       "[(3, 0.10239999999999999),\n",
       " (2, 0.09999999999999998),\n",
       " (4, 0.09959999999999998),\n",
       " (1, 0.05799999999999999)]"
      ]
     },
     "execution_count": 8,
     "metadata": {},
     "output_type": "execute_result"
    }
   ],
   "source": [
    "rank_calc(cyberlinks)"
   ]
  },
  {
   "cell_type": "markdown",
   "metadata": {},
   "source": [
    "# Entropy calculation"
   ]
  },
  {
   "cell_type": "code",
   "execution_count": 9,
   "metadata": {},
   "outputs": [],
   "source": [
    "def entropy_calc(cyberlinks: list, damping_factor: float = 0.8):\n",
    "    cyberlinks_dict = dict(functools.reduce(operator.add, map(collections.Counter, cyberlinks)))\n",
    "    objects = list(set([item for t in [list(x.keys())[0] for x in cyberlinks] for item in t]))\n",
    "    swd = [0] * len(objects)\n",
    "    sumswd = [0] * len(objects)\n",
    "    entropy = [0] * len(objects)\n",
    "    for i in range(len(swd)):\n",
    "        income_cyberlinks = [income_cyberlink for income_cyberlink in [list(x.keys())[0] for x in cyberlinks] if income_cyberlink[1] == objects[i]]\n",
    "        outcome_cyberlinks = [outcome_cyberlinks for outcome_cyberlinks in [list(x.keys())[0] for x in cyberlinks] if outcome_cyberlinks[0] == objects[i]]\n",
    "        swd[i] = damping_factor * sum(cyberlinks_dict[income_cyberlink] for income_cyberlink in income_cyberlinks) + \\\n",
    "                 (1 - damping_factor) * sum(cyberlinks_dict[outcome_cyberlink] for outcome_cyberlink in outcome_cyberlinks)\n",
    "    for i in range(len(sumswd)):\n",
    "        income_cyberlinks = [income_cyberlink for income_cyberlink in [list(x.keys())[0] for x in cyberlinks] if income_cyberlink[1] == objects[i]]\n",
    "        for income_cyberlink in income_cyberlinks:\n",
    "            obj = objects.index(income_cyberlink[0])\n",
    "            sumswd[i] += damping_factor * swd[obj]\n",
    "        outcome_cyberlinks = [outcome_cyberlinks for outcome_cyberlinks in [list(x.keys())[0] for x in cyberlinks] if outcome_cyberlinks[0] == objects[i]]\n",
    "        for outcome_cyberlink in outcome_cyberlinks:\n",
    "            obj = objects.index(outcome_cyberlink[1])\n",
    "            sumswd[i] += (1 - damping_factor) * swd[obj]\n",
    "    for i in range(len(entropy)):\n",
    "        if swd[i] == 0:\n",
    "            continue\n",
    "        income_cyberlinks = [income_cyberlink for income_cyberlink in [list(x.keys())[0] for x in cyberlinks] if income_cyberlink[1] == objects[i]]\n",
    "        for income_cyberlink in income_cyberlinks:\n",
    "            obj = objects.index(income_cyberlink[0])\n",
    "            if sumswd[obj] == 0:\n",
    "                continue\n",
    "            entropy[i] += abs(-swd[i] / sumswd[obj] * math.log2(swd[i]/sumswd[obj]))\n",
    "        outcome_cyberlinks = [outcome_cyberlinks for outcome_cyberlinks in [list(x.keys())[0] for x in cyberlinks] if outcome_cyberlinks[0] == objects[i]]\n",
    "        for outcome_cyberlink in outcome_cyberlinks:\n",
    "            obj = objects.index(outcome_cyberlink[1])\n",
    "            if sumswd[obj] == 0:\n",
    "                continue\n",
    "            entropy[i] += abs(-swd[i] / sumswd[obj] * math.log2(swd[i] / sumswd[obj]))\n",
    "    res = list(zip(objects, entropy))\n",
    "    res.sort(reverse=True, key=lambda x: x[1])\n",
    "    return res"
   ]
  },
  {
   "cell_type": "code",
   "execution_count": 68,
   "metadata": {},
   "outputs": [],
   "source": [
    "# cyberlinks = [\n",
    "#     {(1, 2): 8},\n",
    "#     {(1, 15): 6},\n",
    "#     {(3, 2): 16},\n",
    "#     {(4, 3): 8},\n",
    "#     {(5, 4): 4},\n",
    "#     {(5, 6): 6},\n",
    "#     {(7, 6): 6},\n",
    "#     {(8, 7): 4},\n",
    "#     {(9, 8): 4},\n",
    "#     {(9, 10): 4},\n",
    "#     {(10, 11): 4},\n",
    "#     {(11, 12): 6},\n",
    "#     {(12, 19): 9},\n",
    "#     {(13, 12): 6},\n",
    "#     {(13, 14): 8},\n",
    "#     {(15, 14): 12},\n",
    "#     {(15, 2): 12},\n",
    "#     {(16, 2): 8},\n",
    "#     {(16, 14): 8},\n",
    "#     {(17, 3): 8},\n",
    "#     {(17, 14): 8},\n",
    "#     {(18, 3): 8},\n",
    "#     {(18, 19): 6},\n",
    "#     {(20, 19): 6},\n",
    "#     {(21, 20): 4},\n",
    "#     {(21, 6): 6}\n",
    "# ]"
   ]
  },
  {
   "cell_type": "code",
   "execution_count": 10,
   "metadata": {},
   "outputs": [
    {
     "data": {
      "text/plain": [
       "[(2, 2.0393614893359167),\n",
       " (1, 1.5439077306570839),\n",
       " (4, 1.1878887843191328),\n",
       " (3, 0.9723731309047978)]"
      ]
     },
     "execution_count": 10,
     "metadata": {},
     "output_type": "execute_result"
    }
   ],
   "source": [
    "entropy_calc(cyberlinks)"
   ]
  },
  {
   "cell_type": "markdown",
   "metadata": {},
   "source": [
    "## Resource tokens minting"
   ]
  },
  {
   "cell_type": "code",
   "execution_count": 61,
   "metadata": {},
   "outputs": [],
   "source": [
    "def mint_resource_token(\n",
    "                        hydrogen: int, \n",
    "                        investmint_time: int, \n",
    "                        base_vesting_resource: int = 10_000_000_000, \n",
    "                        base_vesting_time: int = 86400,\n",
    "                        max_vesting_time: int = 604800):\n",
    "    # hydrogen is a fuel token for resources minting\n",
    "    # investment time is a time token locked\n",
    "    if investmint_time > max_vesting_time:\n",
    "        print('Impossible to lock tokens longer than max vesting time')\n",
    "        return 0\n",
    "    return int(hydrogen / base_vesting_resource) * (investmint_time / base_vesting_time)"
   ]
  },
  {
   "cell_type": "code",
   "execution_count": 62,
   "metadata": {},
   "outputs": [
    {
     "data": {
      "text/plain": [
       "10.0"
      ]
     },
     "execution_count": 62,
     "metadata": {},
     "output_type": "execute_result"
    }
   ],
   "source": [
    "mint_resource_token(100_000_000_000, 86400)"
   ]
  }
 ],
 "metadata": {
  "kernelspec": {
   "display_name": "Python 3",
   "language": "python",
   "name": "python3"
  },
  "language_info": {
   "codemirror_mode": {
    "name": "ipython",
    "version": 3
   },
   "file_extension": ".py",
   "mimetype": "text/x-python",
   "name": "python",
   "nbconvert_exporter": "python",
   "pygments_lexer": "ipython3",
   "version": "3.8.0"
  }
 },
 "nbformat": 4,
 "nbformat_minor": 2
}

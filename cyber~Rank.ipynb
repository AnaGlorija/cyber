{
 "cells": [
  {
   "cell_type": "markdown",
   "metadata": {},
   "source": [
    "## cyber~rank"
   ]
  },
  {
   "cell_type": "code",
   "execution_count": 1,
   "metadata": {},
   "outputs": [],
   "source": [
    "import collections\n",
    "import functools\n",
    "import operator"
   ]
  },
  {
   "cell_type": "code",
   "execution_count": 2,
   "metadata": {},
   "outputs": [],
   "source": [
    "def cyber_rank(cyberlinks: list, tolerance: float = 0.001, damping_factor: float = 0.8):\n",
    "    # the list of Graph particles\n",
    "    V = list(set([item for t in [list(x.keys())[0] for x in cyberlinks] for item in t]))\n",
    "    # the list of Graph particles witout income links\n",
    "    N_0 = [obj for obj in V if obj not in [list(cyberlink.keys())[0][1] for cyberlink in cyberlinks]]\n",
    "    # the default value of cyber~rank per particle\n",
    "    R_0 = (1 + (damping_factor * (len(N_0) / len(V)))) * ((1 - damping_factor) / len(V))\n",
    "    # the inirial value of tolerance\n",
    "    E = tolerance + 1\n",
    "    # the initial cyber~rank\n",
    "    R_V = [0] * len(V)\n",
    "    # merge cyberlinks weights by from-to values\n",
    "    cyberlinks_dict = dict(functools.reduce(operator.add, map(collections.Counter, cyberlinks)))\n",
    "    # loop the algorithm until it reached tolerance\n",
    "    while E > tolerance:\n",
    "        # temporal rank value for particle\n",
    "        R_TEMP = []\n",
    "        # for each particle in the list of Graph particles\n",
    "        for v in V:\n",
    "            s = 0\n",
    "            # get all income links\n",
    "            v_income = [income_cyberlink for income_cyberlink in [list(x.keys())[0] for x in cyberlinks] if income_cyberlink[1] == v]\n",
    "            # for each income link calculate weight ratio of a given particle\n",
    "            for u in v_income:\n",
    "                weight_uv = cyberlinks_dict[u]\n",
    "                cyberlinks_outcome = [outcome_cyberlink for outcome_cyberlink in [list(x.keys())[0] for x in cyberlinks] if outcome_cyberlink[0] == u[0]]\n",
    "                weight_u = sum([cyberlinks_dict[outcome_cyberlink] for outcome_cyberlink in cyberlinks_outcome])\n",
    "                R_v = R_V[V.index(v)]\n",
    "                s = s + (weight_uv * R_v) / weight_u\n",
    "            R_TEMP.append(damping_factor * s + R_0)\n",
    "        E = abs(max(R_V) - max(R_TEMP))\n",
    "        R_V = R_TEMP\n",
    "    return R_V"
   ]
  },
  {
   "cell_type": "code",
   "execution_count": 3,
   "metadata": {},
   "outputs": [],
   "source": [
    "# lets create 4 cyberlinks:\n",
    "# the structure is {(particle_from, particle_to): weight}\n",
    "\n",
    "cyberlinks = [\n",
    "    {(1, 2): 1},\n",
    "    {(1, 3): 2},\n",
    "    {(4, 1): 3},\n",
    "    {(4, 2): 4}\n",
    "]"
   ]
  },
  {
   "cell_type": "code",
   "execution_count": 4,
   "metadata": {},
   "outputs": [
    {
     "data": {
      "text/plain": [
       "[0.09130431950719328,\n",
       " 0.21488805025687507,\n",
       " 0.1285520587034556,\n",
       " 0.059999999999999984]"
      ]
     },
     "execution_count": 4,
     "metadata": {},
     "output_type": "execute_result"
    }
   ],
   "source": [
    "cyber_rank(cyberlinks)"
   ]
  },
  {
   "cell_type": "markdown",
   "metadata": {},
   "source": [
    "## Resource tokens minting"
   ]
  },
  {
   "cell_type": "code",
   "execution_count": 5,
   "metadata": {},
   "outputs": [],
   "source": [
    "def mint_resource_token(\n",
    "                        hydrogen: int, \n",
    "                        investmint_time: int, \n",
    "                        base_vesting_resource: int = 10_000_000_000, \n",
    "                        base_vesting_time: int = 86400,\n",
    "                        max_vesting_time: int = 604800):\n",
    "    # hydrogen is a fuel token for resources minting\n",
    "    # investment time is a time token locked\n",
    "    if investmint_time > max_vesting_time:\n",
    "        print('Impossible to lock tokens longer than max vesting time')\n",
    "        return 0\n",
    "    return int(hydrogen / base_vesting_resource) * (investmint_time / base_vesting_time)"
   ]
  },
  {
   "cell_type": "code",
   "execution_count": 6,
   "metadata": {},
   "outputs": [
    {
     "data": {
      "text/plain": [
       "10.0"
      ]
     },
     "execution_count": 6,
     "metadata": {},
     "output_type": "execute_result"
    }
   ],
   "source": [
    "mint_resource_token(100_000_000_000, 86400)"
   ]
  },
  {
   "cell_type": "code",
   "execution_count": null,
   "metadata": {},
   "outputs": [],
   "source": []
  }
 ],
 "metadata": {
  "kernelspec": {
   "display_name": "Python 3",
   "language": "python",
   "name": "python3"
  },
  "language_info": {
   "codemirror_mode": {
    "name": "ipython",
    "version": 3
   },
   "file_extension": ".py",
   "mimetype": "text/x-python",
   "name": "python",
   "nbconvert_exporter": "python",
   "pygments_lexer": "ipython3",
   "version": "3.8.0"
  }
 },
 "nbformat": 4,
 "nbformat_minor": 2
}

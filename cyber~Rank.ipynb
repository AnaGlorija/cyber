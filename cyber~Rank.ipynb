{
 "cells": [
  {
   "cell_type": "markdown",
   "metadata": {},
   "source": [
    "## cyber~rank"
   ]
  },
  {
   "cell_type": "code",
   "execution_count": 57,
   "metadata": {},
   "outputs": [],
   "source": [
    "import math\n",
    "import collections\n",
    "import functools\n",
    "import operator"
   ]
  },
  {
   "cell_type": "code",
   "execution_count": 58,
   "metadata": {},
   "outputs": [],
   "source": [
    "def rank_calc(cyberlinks: list, tolerance: float = 0.001, damping_factor: float = 0.8):\n",
    "    cyberlinks_dict = dict(functools.reduce(operator.add, map(collections.Counter, cyberlinks)))\n",
    "    objects = list(set([item for t in [list(x.keys())[0] for x in cyberlinks] for item in t]))\n",
    "    rank = [0] * len(objects)\n",
    "    size = len(objects)\n",
    "    default_rank = (1.0 - damping_factor) / size\n",
    "    dangling_nodes = [obj for obj in objects if obj not in [list(cyberlink.keys())[0][1] for cyberlink in cyberlinks]]\n",
    "    dangling_nodes_size = len(dangling_nodes)\n",
    "    inner_product_over_size = default_rank * (dangling_nodes_size / size)\n",
    "    default_rank_with_correction = (damping_factor * inner_product_over_size) + default_rank\n",
    "    change = tolerance + 1\n",
    "\n",
    "    steps = 0\n",
    "    prevrank = [0] * len(objects)\n",
    "    while change > tolerance:\n",
    "        for obj in objects:\n",
    "            obj_index = objects.index(obj)\n",
    "            ksum = 0\n",
    "            income_cyberlinks = [income_cyberlink for income_cyberlink in [list(x.keys())[0] for x in cyberlinks] if income_cyberlink[1] == obj]\n",
    "            for cyberlink in income_cyberlinks:\n",
    "                linkStake = cyberlinks_dict[cyberlink]\n",
    "                outcome_cyberlinks = [outcome_cyberlink for outcome_cyberlink in [list(x.keys())[0] for x in cyberlinks] if outcome_cyberlink[0] == cyberlink[0]]\n",
    "                jCidOutStake = sum([cyberlinks_dict[outcome_cyberlink] for outcome_cyberlink in outcome_cyberlinks])\n",
    "                if linkStake == 0 or jCidOutStake == 0:\n",
    "                    continue\n",
    "                weight = linkStake / jCidOutStake\n",
    "                ksum = prevrank[obj_index] * weight + ksum\n",
    "            rank[obj_index] = ksum * damping_factor + default_rank_with_correction\n",
    "        change = abs(max(rank) - max(prevrank))\n",
    "        prevrank = rank\n",
    "        steps += 1\n",
    "    res = list(zip(objects, rank))\n",
    "    res.sort(reverse=True, key=lambda x: x[1])\n",
    "    return res"
   ]
  },
  {
   "cell_type": "code",
   "execution_count": 59,
   "metadata": {},
   "outputs": [],
   "source": [
    "# lets create 4 cyberlinks:\n",
    "# the structure is {(particle_from, particle_to): weight}\n",
    "\n",
    "cyberlinks = [\n",
    "    {(1, 2): 1},\n",
    "    {(1, 3): 2},\n",
    "    {(4, 1): 3},\n",
    "    {(4, 2): 4},\n",
    "    {(2, 3): 3}\n",
    "]"
   ]
  },
  {
   "cell_type": "code",
   "execution_count": 60,
   "metadata": {},
   "outputs": [
    {
     "data": {
      "text/plain": [
       "[(3, 0.13999999999999996),\n",
       " (2, 0.1034285714285714),\n",
       " (1, 0.08057142857142854),\n",
       " (4, 0.059999999999999984)]"
      ]
     },
     "execution_count": 60,
     "metadata": {},
     "output_type": "execute_result"
    }
   ],
   "source": [
    "rank_calc(cyberlinks)"
   ]
  },
  {
   "cell_type": "markdown",
   "metadata": {},
   "source": [
    "## Resource tokens minting"
   ]
  },
  {
   "cell_type": "code",
   "execution_count": 12,
   "metadata": {},
   "outputs": [],
   "source": [
    "def mint_resource_token(\n",
    "                        hydrogen: int, \n",
    "                        investmint_time: int, \n",
    "                        base_vesting_resource: int = 10_000_000_000, \n",
    "                        base_vesting_time: int = 86400,\n",
    "                        max_vesting_time: int = 604800):\n",
    "    # hydrogen is a fuel token for resources minting\n",
    "    # investment time is a time token locked\n",
    "    if investmint_time > max_vesting_time:\n",
    "        print('Impossible to lock tokens longer than max vesting time')\n",
    "        return 0\n",
    "    return int(hydrogen / base_vesting_resource) * (investmint_time / base_vesting_time)"
   ]
  },
  {
   "cell_type": "code",
   "execution_count": 13,
   "metadata": {},
   "outputs": [
    {
     "data": {
      "text/plain": [
       "10.0"
      ]
     },
     "execution_count": 13,
     "metadata": {},
     "output_type": "execute_result"
    }
   ],
   "source": [
    "mint_resource_token(100_000_000_000, 86400)"
   ]
  },
  {
   "cell_type": "markdown",
   "metadata": {},
   "source": [
    "# Entropy calculation"
   ]
  },
  {
   "cell_type": "code",
   "execution_count": 14,
   "metadata": {},
   "outputs": [],
   "source": [
    "def entropy_calc(cyberlinks: list, damping_factor: float = 0.8):\n",
    "    cyberlinks_dict = dict(functools.reduce(operator.add, map(collections.Counter, cyberlinks)))\n",
    "    objects = list(set([item for t in [list(x.keys())[0] for x in cyberlinks] for item in t]))\n",
    "    swd = [0] * len(objects)\n",
    "    sumswd = [0] * len(objects)\n",
    "    entropy = [0] * len(objects)\n",
    "    for i in range(len(swd)):\n",
    "        income_cyberlinks = [income_cyberlink for income_cyberlink in [list(x.keys())[0] for x in cyberlinks] if income_cyberlink[1] == objects[i]]\n",
    "        outcome_cyberlinks = [outcome_cyberlinks for outcome_cyberlinks in [list(x.keys())[0] for x in cyberlinks] if outcome_cyberlinks[0] == objects[i]]\n",
    "        swd[i] = damping_factor * sum(cyberlinks_dict[income_cyberlink] for income_cyberlink in income_cyberlinks) + \\\n",
    "                 (1 - damping_factor) * sum(cyberlinks_dict[outcome_cyberlink] for outcome_cyberlink in outcome_cyberlinks)\n",
    "    for i in range(len(sumswd)):\n",
    "        income_cyberlinks = [income_cyberlink for income_cyberlink in [list(x.keys())[0] for x in cyberlinks] if income_cyberlink[1] == objects[i]]\n",
    "        for income_cyberlink in income_cyberlinks:\n",
    "            obj = objects.index(income_cyberlink[0])\n",
    "            sumswd[i] += damping_factor * swd[obj]\n",
    "        outcome_cyberlinks = [outcome_cyberlinks for outcome_cyberlinks in [list(x.keys())[0] for x in cyberlinks] if outcome_cyberlinks[0] == objects[i]]\n",
    "        for outcome_cyberlink in outcome_cyberlinks:\n",
    "            obj = objects.index(outcome_cyberlink[1])\n",
    "            sumswd[i] += (1 - damping_factor) * swd[obj]\n",
    "    for i in range(len(entropy)):\n",
    "        if swd[i] == 0:\n",
    "            continue\n",
    "        income_cyberlinks = [income_cyberlink for income_cyberlink in [list(x.keys())[0] for x in cyberlinks] if income_cyberlink[1] == objects[i]]\n",
    "        for income_cyberlink in income_cyberlinks:\n",
    "            obj = objects.index(income_cyberlink[0])\n",
    "            if sumswd[obj] == 0:\n",
    "                continue\n",
    "            entropy[i] += abs(-swd[i] / sumswd[obj] * math.log2(swd[i]/sumswd[obj]))\n",
    "        outcome_cyberlinks = [outcome_cyberlinks for outcome_cyberlinks in [list(x.keys())[0] for x in cyberlinks] if outcome_cyberlinks[0] == objects[i]]\n",
    "        for outcome_cyberlink in outcome_cyberlinks:\n",
    "            obj = objects.index(outcome_cyberlink[1])\n",
    "            if sumswd[obj] == 0:\n",
    "                continue\n",
    "            entropy[i] += abs(-swd[i] / sumswd[obj] * math.log2(swd[i] / sumswd[obj]))\n",
    "    res = list(zip(objects, entropy))\n",
    "    res.sort(reverse=True, key=lambda x: x[1])\n",
    "    return res"
   ]
  },
  {
   "cell_type": "code",
   "execution_count": 15,
   "metadata": {},
   "outputs": [],
   "source": [
    "cyberlinks = [\n",
    "    {(1, 2): 8},\n",
    "    {(1, 15): 6},\n",
    "    {(3, 2): 16},\n",
    "    {(4, 3): 8},\n",
    "    {(5, 4): 4},\n",
    "    {(5, 6): 6},\n",
    "    {(7, 6): 6},\n",
    "    {(8, 7): 4},\n",
    "    {(9, 8): 4},\n",
    "    {(9, 10): 4},\n",
    "    {(10, 11): 4},\n",
    "    {(11, 12): 6},\n",
    "    {(12, 19): 9},\n",
    "    {(13, 12): 6},\n",
    "    {(13, 14): 8},\n",
    "    {(15, 14): 12},\n",
    "    {(15, 2): 12},\n",
    "    {(16, 2): 8},\n",
    "    {(16, 14): 8},\n",
    "    {(17, 3): 8},\n",
    "    {(17, 14): 8},\n",
    "    {(18, 3): 8},\n",
    "    {(18, 19): 6},\n",
    "    {(20, 19): 6},\n",
    "    {(21, 20): 4},\n",
    "    {(21, 6): 6}\n",
    "]"
   ]
  },
  {
   "cell_type": "code",
   "execution_count": 16,
   "metadata": {},
   "outputs": [
    {
     "data": {
      "text/plain": [
       "[(6, 17.516289145081835),\n",
       " (2, 17.25863153266834),\n",
       " (14, 15.216844887355874),\n",
       " (3, 14.053600707437878),\n",
       " (19, 9.941154476005343),\n",
       " (8, 3.702235581737394),\n",
       " (10, 3.636335487718992),\n",
       " (12, 3.207173722192134),\n",
       " (11, 2.598279162340869),\n",
       " (7, 2.4909937454722426),\n",
       " (21, 1.048738318825225),\n",
       " (5, 1.0480304076460332),\n",
       " (15, 1.0452166294092318),\n",
       " (13, 0.9745569392632268),\n",
       " (17, 0.9429488462719593),\n",
       " (4, 0.9252119293765573),\n",
       " (18, 0.8972974707273671),\n",
       " (16, 0.8169213102506709),\n",
       " (20, 0.7851494605294047),\n",
       " (1, 0.768414547218145),\n",
       " (9, 0.64142134411275)]"
      ]
     },
     "execution_count": 16,
     "metadata": {},
     "output_type": "execute_result"
    }
   ],
   "source": [
    "entropy_calc(cyberlinks)"
   ]
  },
  {
   "cell_type": "code",
   "execution_count": 17,
   "metadata": {},
   "outputs": [
    {
     "data": {
      "text/plain": [
       "[(2, 0.037988986070618715),\n",
       " (19, 0.036568837058632966),\n",
       " (6, 0.03429659863945577),\n",
       " (14, 0.033018464528668606),\n",
       " (3, 0.0330184645286686),\n",
       " (12, 0.026627793974732743),\n",
       " (7, 0.022367346938775505),\n",
       " (11, 0.022367346938775505),\n",
       " (8, 0.01739682539682539),\n",
       " (10, 0.01739682539682539),\n",
       " (15, 0.01668675089083252),\n",
       " (4, 0.01640272108843537),\n",
       " (20, 0.01640272108843537),\n",
       " (1, 0.01242630385487528),\n",
       " (5, 0.01242630385487528),\n",
       " (9, 0.01242630385487528),\n",
       " (13, 0.01242630385487528),\n",
       " (16, 0.01242630385487528),\n",
       " (17, 0.01242630385487528),\n",
       " (18, 0.01242630385487528),\n",
       " (21, 0.01242630385487528)]"
      ]
     },
     "execution_count": 17,
     "metadata": {},
     "output_type": "execute_result"
    }
   ],
   "source": [
    "rank_calc(cyberlinks)"
   ]
  },
  {
   "cell_type": "code",
   "execution_count": null,
   "metadata": {},
   "outputs": [],
   "source": []
  }
 ],
 "metadata": {
  "kernelspec": {
   "display_name": "Python 3",
   "language": "python",
   "name": "python3"
  },
  "language_info": {
   "codemirror_mode": {
    "name": "ipython",
    "version": 3
   },
   "file_extension": ".py",
   "mimetype": "text/x-python",
   "name": "python",
   "nbconvert_exporter": "python",
   "pygments_lexer": "ipython3",
   "version": "3.8.0"
  }
 },
 "nbformat": 4,
 "nbformat_minor": 2
}
